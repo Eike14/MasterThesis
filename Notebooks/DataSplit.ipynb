{
 "cells": [
  {
   "cell_type": "code",
   "execution_count": 5,
   "id": "95dd4513-dec2-4cb9-a28d-39a10abe5e1c",
   "metadata": {},
   "outputs": [],
   "source": [
    "import os\n",
    "import numpy as np \n",
    "import shutil\n",
    "import pandas as pd\n",
    "import tensorflow as tf"
   ]
  },
  {
   "cell_type": "code",
   "execution_count": 6,
   "id": "6d3f047b-02e3-4795-be67-a29dc0d76d2e",
   "metadata": {},
   "outputs": [
    {
     "name": "stdout",
     "output_type": "stream",
     "text": [
      "Found 8399 files belonging to 25 classes.\n"
     ]
    }
   ],
   "source": [
    "data_dir = \"..\\\\Dataset\\\\raw\"\n",
    "data = tf.keras.utils.image_dataset_from_directory(data_dir,\n",
    "                                                  image_size=(224,224),\n",
    "                                                  seed=42,\n",
    "                                                  batch_size=None)\n",
    "\n",
    "class_names = data.class_names"
   ]
  },
  {
   "cell_type": "code",
   "execution_count": 9,
   "id": "f0369e7f-8013-4b41-b67c-f690495ff2e8",
   "metadata": {},
   "outputs": [
    {
     "data": {
      "text/plain": [
       "['Adialer.C',\n",
       " 'Agent.FYI',\n",
       " 'Allaple.A',\n",
       " 'Allaple.L',\n",
       " 'Alueron.gen!J',\n",
       " 'Autorun.K',\n",
       " 'C2LOP.P',\n",
       " 'C2LOP.gen!g',\n",
       " 'Dialplatform.B',\n",
       " 'Dontovo.A',\n",
       " 'Fakerean',\n",
       " 'Instantaccess',\n",
       " 'Lolyda.AA1',\n",
       " 'Lolyda.AA2',\n",
       " 'Lolyda.AA3',\n",
       " 'Lolyda.AT',\n",
       " 'Malex.gen!J',\n",
       " 'Obfuscator.AD',\n",
       " 'Rbot!gen',\n",
       " 'Skintrim.N',\n",
       " 'Swizzor.gen!E',\n",
       " 'Swizzor.gen!l',\n",
       " 'VB.AT',\n",
       " 'Wintrim.BX',\n",
       " 'Yuner.A']"
      ]
     },
     "execution_count": 9,
     "metadata": {},
     "output_type": "execute_result"
    }
   ],
   "source": [
    "class_names"
   ]
  },
  {
   "cell_type": "code",
   "execution_count": 7,
   "id": "2744475c-fc7b-4e61-9460-aaf357e567ce",
   "metadata": {},
   "outputs": [],
   "source": [
    "def train_test_split():\n",
    "    print(\"Starting split script:\")\n",
    "\n",
    "    target_dir = \"..\\\\Dataset\\\\splitted\"\n",
    "    source_dir = \"..\\\\Dataset\\\\raw\"\n",
    "\n",
    "    val_ratio = 0.15\n",
    "    test_ratio = 0.15\n",
    "\n",
    "    for cls in class_names:\n",
    "        print(\"Class Name \" + cls)\n",
    "        src = source_dir + \"\\\\\" + cls\n",
    "\n",
    "        allFileNames = os.listdir(src)\n",
    "        np.random.shuffle(allFileNames)\n",
    "        train_FileNames, val_FileNames, test_FileNames = np.split(np.array(allFileNames),\n",
    "                                                                 [int(len(allFileNames)*(1-(val_ratio+test_ratio))),\n",
    "                                                                 int(len(allFileNames)*(1-val_ratio)),\n",
    "                                                                 ])\n",
    "\n",
    "        train_FileNames = [src + \"\\\\\" + name for name in train_FileNames.tolist()]\n",
    "        val_FileNames = [src + \"\\\\\" + name for name in val_FileNames.tolist()]\n",
    "        test_FileNames = [src + \"\\\\\" + name for name in test_FileNames.tolist()]\n",
    "\n",
    "        os.makedirs(target_dir + \"\\\\train\\\\\" + cls)\n",
    "        os.makedirs(target_dir + \"\\\\val\\\\\" + cls)\n",
    "        os.makedirs(target_dir + \"\\\\test\\\\\" + cls)\n",
    "\n",
    "        for name in train_FileNames:\n",
    "            shutil.copy(name, target_dir + \"\\\\train\\\\\" + cls)\n",
    "\n",
    "        for name in val_FileNames:\n",
    "            shutil.copy(name, target_dir + \"\\\\val\\\\\" + cls)\n",
    "\n",
    "        for name in test_FileNames:\n",
    "            shutil.copy(name, target_dir + \"\\\\test\\\\\" + cls)\n",
    "\n",
    "    print(\"Script ended!\")"
   ]
  },
  {
   "cell_type": "code",
   "execution_count": 8,
   "id": "acac462b-bae0-440c-bddc-a6f34a0e0519",
   "metadata": {},
   "outputs": [
    {
     "name": "stdout",
     "output_type": "stream",
     "text": [
      "Starting split script:\n",
      "Class Name Adialer.C\n",
      "Class Name Agent.FYI\n",
      "Class Name Allaple.A\n",
      "Class Name Allaple.L\n",
      "Class Name Alueron.gen!J\n",
      "Class Name Autorun.K\n",
      "Class Name C2LOP.P\n",
      "Class Name C2LOP.gen!g\n",
      "Class Name Dialplatform.B\n",
      "Class Name Dontovo.A\n",
      "Class Name Fakerean\n",
      "Class Name Instantaccess\n",
      "Class Name Lolyda.AA1\n",
      "Class Name Lolyda.AA2\n",
      "Class Name Lolyda.AA3\n",
      "Class Name Lolyda.AT\n",
      "Class Name Malex.gen!J\n",
      "Class Name Obfuscator.AD\n",
      "Class Name Rbot!gen\n",
      "Class Name Skintrim.N\n",
      "Class Name Swizzor.gen!E\n",
      "Class Name Swizzor.gen!l\n",
      "Class Name VB.AT\n",
      "Class Name Wintrim.BX\n",
      "Class Name Yuner.A\n",
      "Script ended!\n"
     ]
    }
   ],
   "source": [
    "train_test_split()"
   ]
  },
  {
   "cell_type": "code",
   "execution_count": null,
   "id": "03a5161b-cf57-4925-bfa7-95b2b86fd225",
   "metadata": {},
   "outputs": [],
   "source": []
  }
 ],
 "metadata": {
  "kernelspec": {
   "display_name": "Python 3 (ipykernel)",
   "language": "python",
   "name": "python3"
  },
  "language_info": {
   "codemirror_mode": {
    "name": "ipython",
    "version": 3
   },
   "file_extension": ".py",
   "mimetype": "text/x-python",
   "name": "python",
   "nbconvert_exporter": "python",
   "pygments_lexer": "ipython3",
   "version": "3.8.18"
  }
 },
 "nbformat": 4,
 "nbformat_minor": 5
}

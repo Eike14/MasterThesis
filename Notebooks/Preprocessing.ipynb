{
 "cells": [
  {
   "cell_type": "code",
   "execution_count": 1,
   "id": "46885287-bb06-4829-81f8-2874fc27239d",
   "metadata": {
    "tags": []
   },
   "outputs": [],
   "source": [
    "import numpy as np\n",
    "import os\n",
    "import PIL\n",
    "import PIL.Image\n",
    "import tensorflow as tf\n",
    "import tensorflow_datasets as tfds\n",
    "from pathlib import Path"
   ]
  },
  {
   "cell_type": "markdown",
   "id": "c713168f-a0af-47e6-9523-7445272134a1",
   "metadata": {},
   "source": [
    "# Load the data and create training, validation and test set"
   ]
  },
  {
   "cell_type": "code",
   "execution_count": 2,
   "id": "7e551ee0-2a45-4f31-9e0f-e87d329feb16",
   "metadata": {},
   "outputs": [
    {
     "name": "stdout",
     "output_type": "stream",
     "text": [
      "Found 5868 files belonging to 25 classes.\n",
      "Found 1262 files belonging to 25 classes.\n",
      "Found 1269 files belonging to 25 classes.\n"
     ]
    }
   ],
   "source": [
    "train_data_dir = \"..\\\\Dataset\\\\splitted\\\\train\"\n",
    "val_data_dir = \"..\\\\Dataset\\\\splitted\\\\val\"\n",
    "test_data_dir = \"..\\\\Dataset\\\\splitted\\\\test\"\n",
    "\n",
    "train_data = tf.keras.utils.image_dataset_from_directory(train_data_dir,\n",
    "                                                        seed=123,\n",
    "                                                        image_size = (224,224),\n",
    "                                                        batch_size=None)\n",
    "\n",
    "val_data = tf.keras.utils.image_dataset_from_directory(val_data_dir,\n",
    "                                                        seed=123,\n",
    "                                                        image_size = (224,224),\n",
    "                                                        batch_size=None)\n",
    "\n",
    "test_data = tf.keras.utils.image_dataset_from_directory(test_data_dir,\n",
    "                                                        seed=123,\n",
    "                                                        image_size = (224,224),\n",
    "                                                        batch_size=None)"
   ]
  },
  {
   "cell_type": "code",
   "execution_count": null,
   "id": "56a4b687-49f5-4190-90c5-af2b37d3329c",
   "metadata": {},
   "outputs": [],
   "source": []
  },
  {
   "cell_type": "markdown",
   "id": "007abd90-53d4-4b4d-ba27-427b1f3c01db",
   "metadata": {
    "tags": []
   },
   "source": [
    "# Normalize the data"
   ]
  },
  {
   "cell_type": "code",
   "execution_count": 3,
   "id": "cceb414a-2c4a-45ad-8264-6de4f3437796",
   "metadata": {
    "tags": []
   },
   "outputs": [],
   "source": [
    "normalization_layer = tf.keras.layers.Rescaling(1./255)"
   ]
  },
  {
   "cell_type": "code",
   "execution_count": 4,
   "id": "ee62067c-de49-43ce-9bb2-81ee9b4c4b2b",
   "metadata": {
    "tags": []
   },
   "outputs": [
    {
     "name": "stdout",
     "output_type": "stream",
     "text": [
      "0.0 0.8638393\n"
     ]
    }
   ],
   "source": [
    "normalized_train_ds = train_data.map(lambda x, y: (normalization_layer(x), y))\n",
    "normalized_val_ds = val_data.map(lambda x, y: (normalization_layer(x),y))\n",
    "normalized_test_ds = test_data.map(lambda x, y: (normalization_layer(x), y))\n",
    "image_batch, labels_batch = next(iter(normalized_train_ds))\n",
    "first_image = image_batch[0]\n",
    "print(np.min(first_image), np.max(first_image))"
   ]
  },
  {
   "cell_type": "markdown",
   "id": "8f591c78-ae80-4e85-a2c9-082b7de36098",
   "metadata": {},
   "source": [
    "# Save preprocessed data"
   ]
  },
  {
   "cell_type": "code",
   "execution_count": 5,
   "id": "9b5d36b1-9dde-4436-9288-f7169ccaebc5",
   "metadata": {
    "tags": []
   },
   "outputs": [],
   "source": [
    "normalized_train_ds.save(\"..\\\\Dataset\\\\preprocessed\\\\train\")\n",
    "normalized_val_ds.save(\"..\\\\Dataset\\\\preprocessed\\\\val\")\n",
    "normalized_test_ds.save(\"..\\\\Dataset\\\\preprocessed\\\\test\")"
   ]
  },
  {
   "cell_type": "code",
   "execution_count": null,
   "id": "6161e378-af62-4a63-885b-7e632432efca",
   "metadata": {},
   "outputs": [],
   "source": []
  }
 ],
 "metadata": {
  "kernelspec": {
   "display_name": "Python 3 (ipykernel)",
   "language": "python",
   "name": "python3"
  },
  "language_info": {
   "codemirror_mode": {
    "name": "ipython",
    "version": 3
   },
   "file_extension": ".py",
   "mimetype": "text/x-python",
   "name": "python",
   "nbconvert_exporter": "python",
   "pygments_lexer": "ipython3",
   "version": "3.8.18"
  }
 },
 "nbformat": 4,
 "nbformat_minor": 5
}

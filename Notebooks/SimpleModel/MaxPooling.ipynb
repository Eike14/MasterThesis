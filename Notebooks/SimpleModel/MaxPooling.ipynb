{
 "cells": [
  {
   "cell_type": "markdown",
   "id": "4adaad1e-66b1-46db-8a4a-2b597785251e",
   "metadata": {},
   "source": [
    "# Simple Model using Max Pooling"
   ]
  },
  {
   "cell_type": "markdown",
   "id": "76de7e68-3679-4108-a35b-cb6e0e24b3f1",
   "metadata": {},
   "source": [
    "## Imports"
   ]
  },
  {
   "cell_type": "code",
   "execution_count": 1,
   "id": "0d689050-2a9e-42b9-bef4-480221aeac97",
   "metadata": {},
   "outputs": [],
   "source": [
    "import tensorflow as tf \n",
    "import tensorflow_datasets as tfds\n",
    "import sklearn.metrics as metrics\n",
    "import numpy as np\n",
    "import pandas as pd\n"
   ]
  },
  {
   "cell_type": "markdown",
   "id": "8d76fa1d-2399-47d6-8fde-f466f9e14f86",
   "metadata": {},
   "source": [
    "## Loading Datasets"
   ]
  },
  {
   "cell_type": "code",
   "execution_count": 2,
   "id": "77ea2450-8253-404f-8576-9c9ee7c1801f",
   "metadata": {},
   "outputs": [
    {
     "ename": "NotFoundError",
     "evalue": "NewRandomAccessFile failed to Create/Open: ..\\..\\Dataset\\raw\\dataset_spec.pb : Das System kann die angegebene Datei nicht finden.\r\n; No such file or directory",
     "output_type": "error",
     "traceback": [
      "\u001b[1;31m---------------------------------------------------------------------------\u001b[0m",
      "\u001b[1;31mNotFoundError\u001b[0m                             Traceback (most recent call last)",
      "Cell \u001b[1;32mIn[2], line 8\u001b[0m\n\u001b[0;32m      6\u001b[0m test_ds \u001b[38;5;241m=\u001b[39m tf\u001b[38;5;241m.\u001b[39mdata\u001b[38;5;241m.\u001b[39mDataset\u001b[38;5;241m.\u001b[39mload(test_path)\n\u001b[0;32m      7\u001b[0m data_path \u001b[38;5;241m=\u001b[39m \u001b[38;5;124m\"\u001b[39m\u001b[38;5;124m..\u001b[39m\u001b[38;5;130;01m\\\\\u001b[39;00m\u001b[38;5;124m..\u001b[39m\u001b[38;5;130;01m\\\\\u001b[39;00m\u001b[38;5;124mDataset\u001b[39m\u001b[38;5;130;01m\\\\\u001b[39;00m\u001b[38;5;124mraw\u001b[39m\u001b[38;5;124m\"\u001b[39m\n\u001b[1;32m----> 8\u001b[0m data \u001b[38;5;241m=\u001b[39m \u001b[43mtf\u001b[49m\u001b[38;5;241;43m.\u001b[39;49m\u001b[43mdata\u001b[49m\u001b[38;5;241;43m.\u001b[39;49m\u001b[43mDataset\u001b[49m\u001b[38;5;241;43m.\u001b[39;49m\u001b[43mload\u001b[49m\u001b[43m(\u001b[49m\u001b[43mdata_path\u001b[49m\u001b[43m)\u001b[49m\n",
      "File \u001b[1;32m~\\anaconda3\\envs\\MasterThesis\\lib\\site-packages\\tensorflow\\python\\data\\ops\\dataset_ops.py:1835\u001b[0m, in \u001b[0;36mDatasetV2.load\u001b[1;34m(path, element_spec, compression, reader_func)\u001b[0m\n\u001b[0;32m   1832\u001b[0m \u001b[38;5;66;03m# Loaded lazily due to a circular dependency\u001b[39;00m\n\u001b[0;32m   1833\u001b[0m \u001b[38;5;66;03m# dataset_ops->load_ops->dataset_ops\u001b[39;00m\n\u001b[0;32m   1834\u001b[0m \u001b[38;5;28;01mfrom\u001b[39;00m \u001b[38;5;21;01mtensorflow\u001b[39;00m\u001b[38;5;21;01m.\u001b[39;00m\u001b[38;5;21;01mpython\u001b[39;00m\u001b[38;5;21;01m.\u001b[39;00m\u001b[38;5;21;01mdata\u001b[39;00m\u001b[38;5;21;01m.\u001b[39;00m\u001b[38;5;21;01mops\u001b[39;00m \u001b[38;5;28;01mimport\u001b[39;00m load_op  \u001b[38;5;66;03m# pylint: disable=g-import-not-at-top\u001b[39;00m\n\u001b[1;32m-> 1835\u001b[0m \u001b[38;5;28;01mreturn\u001b[39;00m \u001b[43mload_op\u001b[49m\u001b[38;5;241;43m.\u001b[39;49m\u001b[43mload\u001b[49m\u001b[43m(\u001b[49m\n\u001b[0;32m   1836\u001b[0m \u001b[43m    \u001b[49m\u001b[43mpath\u001b[49m\u001b[38;5;241;43m=\u001b[39;49m\u001b[43mpath\u001b[49m\u001b[43m,\u001b[49m\n\u001b[0;32m   1837\u001b[0m \u001b[43m    \u001b[49m\u001b[43melement_spec\u001b[49m\u001b[38;5;241;43m=\u001b[39;49m\u001b[43melement_spec\u001b[49m\u001b[43m,\u001b[49m\n\u001b[0;32m   1838\u001b[0m \u001b[43m    \u001b[49m\u001b[43mcompression\u001b[49m\u001b[38;5;241;43m=\u001b[39;49m\u001b[43mcompression\u001b[49m\u001b[43m,\u001b[49m\n\u001b[0;32m   1839\u001b[0m \u001b[43m    \u001b[49m\u001b[43mreader_func\u001b[49m\u001b[38;5;241;43m=\u001b[39;49m\u001b[43mreader_func\u001b[49m\u001b[43m)\u001b[49m\n",
      "File \u001b[1;32m~\\anaconda3\\envs\\MasterThesis\\lib\\site-packages\\tensorflow\\python\\data\\ops\\load_op.py:36\u001b[0m, in \u001b[0;36mload\u001b[1;34m(path, element_spec, compression, reader_func)\u001b[0m\n\u001b[0;32m     32\u001b[0m \u001b[38;5;28;01mdef\u001b[39;00m \u001b[38;5;21mload\u001b[39m(path,\n\u001b[0;32m     33\u001b[0m          element_spec,\n\u001b[0;32m     34\u001b[0m          compression,\n\u001b[0;32m     35\u001b[0m          reader_func):\n\u001b[1;32m---> 36\u001b[0m   \u001b[38;5;28;01mreturn\u001b[39;00m \u001b[43m_LoadDataset\u001b[49m\u001b[43m(\u001b[49m\u001b[43mpath\u001b[49m\u001b[43m,\u001b[49m\u001b[43m \u001b[49m\u001b[43melement_spec\u001b[49m\u001b[43m,\u001b[49m\u001b[43m \u001b[49m\u001b[43mcompression\u001b[49m\u001b[43m,\u001b[49m\u001b[43m \u001b[49m\u001b[43mreader_func\u001b[49m\u001b[43m)\u001b[49m\n",
      "File \u001b[1;32m~\\anaconda3\\envs\\MasterThesis\\lib\\site-packages\\tensorflow\\python\\data\\ops\\load_op.py:57\u001b[0m, in \u001b[0;36m_LoadDataset.__init__\u001b[1;34m(self, path, element_spec, compression, reader_func)\u001b[0m\n\u001b[0;32m     53\u001b[0m   \u001b[38;5;28;01mraise\u001b[39;00m \u001b[38;5;167;01mValueError\u001b[39;00m(\n\u001b[0;32m     54\u001b[0m       \u001b[38;5;124m\"\u001b[39m\u001b[38;5;124mIn graph mode the `element_spec` argument must be provided.\u001b[39m\u001b[38;5;124m\"\u001b[39m)\n\u001b[0;32m     55\u001b[0m \u001b[38;5;28;01mwith\u001b[39;00m gfile\u001b[38;5;241m.\u001b[39mGFile(\n\u001b[0;32m     56\u001b[0m     os\u001b[38;5;241m.\u001b[39mpath\u001b[38;5;241m.\u001b[39mjoin(path, dataset_ops\u001b[38;5;241m.\u001b[39mDATASET_SPEC_FILENAME), \u001b[38;5;124m\"\u001b[39m\u001b[38;5;124mrb\u001b[39m\u001b[38;5;124m\"\u001b[39m) \u001b[38;5;28;01mas\u001b[39;00m f:\n\u001b[1;32m---> 57\u001b[0m   encoded_spec \u001b[38;5;241m=\u001b[39m \u001b[43mf\u001b[49m\u001b[38;5;241;43m.\u001b[39;49m\u001b[43mread\u001b[49m\u001b[43m(\u001b[49m\u001b[43m)\u001b[49m\n\u001b[0;32m     58\u001b[0m struct_pb \u001b[38;5;241m=\u001b[39m nested_structure_coder\u001b[38;5;241m.\u001b[39mstruct_pb2\u001b[38;5;241m.\u001b[39mStructuredValue()\n\u001b[0;32m     59\u001b[0m struct_pb\u001b[38;5;241m.\u001b[39mParseFromString(encoded_spec)\n",
      "File \u001b[1;32m~\\anaconda3\\envs\\MasterThesis\\lib\\site-packages\\tensorflow\\python\\lib\\io\\file_io.py:114\u001b[0m, in \u001b[0;36mFileIO.read\u001b[1;34m(self, n)\u001b[0m\n\u001b[0;32m    102\u001b[0m \u001b[38;5;28;01mdef\u001b[39;00m \u001b[38;5;21mread\u001b[39m(\u001b[38;5;28mself\u001b[39m, n\u001b[38;5;241m=\u001b[39m\u001b[38;5;241m-\u001b[39m\u001b[38;5;241m1\u001b[39m):\n\u001b[0;32m    103\u001b[0m \u001b[38;5;250m  \u001b[39m\u001b[38;5;124;03m\"\"\"Returns the contents of a file as a string.\u001b[39;00m\n\u001b[0;32m    104\u001b[0m \n\u001b[0;32m    105\u001b[0m \u001b[38;5;124;03m  Starts reading from current position in file.\u001b[39;00m\n\u001b[1;32m   (...)\u001b[0m\n\u001b[0;32m    112\u001b[0m \u001b[38;5;124;03m    string if in string (regular) mode.\u001b[39;00m\n\u001b[0;32m    113\u001b[0m \u001b[38;5;124;03m  \"\"\"\u001b[39;00m\n\u001b[1;32m--> 114\u001b[0m   \u001b[38;5;28;43mself\u001b[39;49m\u001b[38;5;241;43m.\u001b[39;49m\u001b[43m_preread_check\u001b[49m\u001b[43m(\u001b[49m\u001b[43m)\u001b[49m\n\u001b[0;32m    115\u001b[0m   \u001b[38;5;28;01mif\u001b[39;00m n \u001b[38;5;241m==\u001b[39m \u001b[38;5;241m-\u001b[39m\u001b[38;5;241m1\u001b[39m:\n\u001b[0;32m    116\u001b[0m     length \u001b[38;5;241m=\u001b[39m \u001b[38;5;28mself\u001b[39m\u001b[38;5;241m.\u001b[39msize() \u001b[38;5;241m-\u001b[39m \u001b[38;5;28mself\u001b[39m\u001b[38;5;241m.\u001b[39mtell()\n",
      "File \u001b[1;32m~\\anaconda3\\envs\\MasterThesis\\lib\\site-packages\\tensorflow\\python\\lib\\io\\file_io.py:76\u001b[0m, in \u001b[0;36mFileIO._preread_check\u001b[1;34m(self)\u001b[0m\n\u001b[0;32m     73\u001b[0m \u001b[38;5;28;01mif\u001b[39;00m \u001b[38;5;129;01mnot\u001b[39;00m \u001b[38;5;28mself\u001b[39m\u001b[38;5;241m.\u001b[39m_read_check_passed:\n\u001b[0;32m     74\u001b[0m   \u001b[38;5;28;01mraise\u001b[39;00m errors\u001b[38;5;241m.\u001b[39mPermissionDeniedError(\u001b[38;5;28;01mNone\u001b[39;00m, \u001b[38;5;28;01mNone\u001b[39;00m,\n\u001b[0;32m     75\u001b[0m                                      \u001b[38;5;124m\"\u001b[39m\u001b[38;5;124mFile isn\u001b[39m\u001b[38;5;124m'\u001b[39m\u001b[38;5;124mt open for reading\u001b[39m\u001b[38;5;124m\"\u001b[39m)\n\u001b[1;32m---> 76\u001b[0m \u001b[38;5;28mself\u001b[39m\u001b[38;5;241m.\u001b[39m_read_buf \u001b[38;5;241m=\u001b[39m \u001b[43m_pywrap_file_io\u001b[49m\u001b[38;5;241;43m.\u001b[39;49m\u001b[43mBufferedInputStream\u001b[49m\u001b[43m(\u001b[49m\n\u001b[0;32m     77\u001b[0m \u001b[43m    \u001b[49m\u001b[43mcompat\u001b[49m\u001b[38;5;241;43m.\u001b[39;49m\u001b[43mpath_to_str\u001b[49m\u001b[43m(\u001b[49m\u001b[38;5;28;43mself\u001b[39;49m\u001b[38;5;241;43m.\u001b[39;49m\u001b[43m__name\u001b[49m\u001b[43m)\u001b[49m\u001b[43m,\u001b[49m\u001b[43m \u001b[49m\u001b[38;5;241;43m1024\u001b[39;49m\u001b[43m \u001b[49m\u001b[38;5;241;43m*\u001b[39;49m\u001b[43m \u001b[49m\u001b[38;5;241;43m512\u001b[39;49m\u001b[43m)\u001b[49m\n",
      "\u001b[1;31mNotFoundError\u001b[0m: NewRandomAccessFile failed to Create/Open: ..\\..\\Dataset\\raw\\dataset_spec.pb : Das System kann die angegebene Datei nicht finden.\r\n; No such file or directory"
     ]
    }
   ],
   "source": [
    "train_path = \"..\\\\..\\\\Dataset\\\\preprocessed\\\\train\"\n",
    "val_path = \"..\\\\..\\\\Dataset\\\\preprocessed\\\\val\"\n",
    "test_path = \"..\\\\..\\\\Dataset\\\\preprocessed\\\\test\"\n",
    "train_ds = tf.data.Dataset.load(train_path)\n",
    "val_ds = tf.data.Dataset.load(val_path)\n",
    "test_ds = tf.data.Dataset.load(test_path)"
   ]
  },
  {
   "cell_type": "markdown",
   "id": "e7bb8287-34fe-4792-b20e-c8436365f081",
   "metadata": {},
   "source": [
    "## Creating the model"
   ]
  },
  {
   "cell_type": "code",
   "execution_count": 3,
   "id": "d7ef1d40-5dd7-43bf-a873-793309fe59c6",
   "metadata": {},
   "outputs": [],
   "source": [
    "input_shape = (224,224,3)\n",
    "\n",
    "model = tf.keras.models.Sequential([\n",
    "    tf.keras.layers.Conv2D(32, (3,3), activation=\"relu\", input_shape=input_shape, padding=\"valid\"),\n",
    "    tf.keras.layers.MaxPool2D(),\n",
    "    tf.keras.layers.Conv2D(64, (3,3), activation=\"relu\", padding=\"same\"),\n",
    "    tf.keras.layers.MaxPool2D(),\n",
    "    tf.keras.layers.Conv2D(64, (3,3), activation=\"relu\", padding=\"same\"),\n",
    "    tf.keras.layers.Flatten(),\n",
    "    tf.keras.layers.Dense(64, activation=\"relu\"),\n",
    "    tf.keras.layers.Dense(25, activation=\"softmax\")\n",
    "])"
   ]
  },
  {
   "cell_type": "code",
   "execution_count": 4,
   "id": "b125b1f4-d5ca-4ad0-9e29-1940969eb92d",
   "metadata": {},
   "outputs": [],
   "source": [
    "model.compile(\n",
    "    optimizer=\"SGD\",\n",
    "    loss=tf.keras.losses.SparseCategoricalCrossentropy(),\n",
    "    metrics=[\"sparse_categorical_accuracy\"]\n",
    ")"
   ]
  },
  {
   "cell_type": "markdown",
   "id": "6ace9f26-3700-46f3-a795-9dcce23500d8",
   "metadata": {},
   "source": [
    "## Training the model"
   ]
  },
  {
   "cell_type": "code",
   "execution_count": 5,
   "id": "abee1a11-8624-4d92-8b98-49080b2d385c",
   "metadata": {},
   "outputs": [],
   "source": [
    "batch_size=32\n",
    "num_epochs=20\n",
    "train_ds = train_ds.batch(batch_size)\n",
    "val_ds = val_ds.batch(batch_size)\n",
    "test_ds = test_ds.batch(batch_size)"
   ]
  },
  {
   "cell_type": "code",
   "execution_count": 6,
   "id": "931f124b-3ade-4c33-980a-a6d9d4462fe4",
   "metadata": {},
   "outputs": [],
   "source": [
    "early_stopping = tf.keras.callbacks.EarlyStopping(monitor=\"val_loss\", patience=3)"
   ]
  },
  {
   "cell_type": "code",
   "execution_count": 7,
   "id": "686127b8-7f64-400b-aa7a-822295aa39cd",
   "metadata": {},
   "outputs": [
    {
     "name": "stdout",
     "output_type": "stream",
     "text": [
      "Epoch 1/20\n",
      "184/184 [==============================] - 115s 621ms/step - loss: 2.2940 - sparse_categorical_accuracy: 0.3548 - val_loss: 1.7965 - val_sparse_categorical_accuracy: 0.4572\n",
      "Epoch 2/20\n",
      "184/184 [==============================] - 125s 677ms/step - loss: 1.3288 - sparse_categorical_accuracy: 0.5711 - val_loss: 1.1335 - val_sparse_categorical_accuracy: 0.6442\n",
      "Epoch 3/20\n",
      "184/184 [==============================] - 125s 678ms/step - loss: 0.5410 - sparse_categorical_accuracy: 0.8384 - val_loss: 0.3412 - val_sparse_categorical_accuracy: 0.9120\n",
      "Epoch 4/20\n",
      "184/184 [==============================] - 127s 689ms/step - loss: 0.8023 - sparse_categorical_accuracy: 0.8066 - val_loss: 0.3963 - val_sparse_categorical_accuracy: 0.8946\n",
      "Epoch 5/20\n",
      "184/184 [==============================] - 127s 690ms/step - loss: 0.1888 - sparse_categorical_accuracy: 0.9444 - val_loss: 0.1610 - val_sparse_categorical_accuracy: 0.9548\n",
      "Epoch 6/20\n",
      "184/184 [==============================] - 124s 674ms/step - loss: 0.1095 - sparse_categorical_accuracy: 0.9647 - val_loss: 0.1350 - val_sparse_categorical_accuracy: 0.9556\n",
      "Epoch 7/20\n",
      "184/184 [==============================] - 126s 682ms/step - loss: 0.0813 - sparse_categorical_accuracy: 0.9722 - val_loss: 0.1196 - val_sparse_categorical_accuracy: 0.9580\n",
      "Epoch 8/20\n",
      "184/184 [==============================] - 126s 685ms/step - loss: 0.0629 - sparse_categorical_accuracy: 0.9790 - val_loss: 0.1033 - val_sparse_categorical_accuracy: 0.9612\n",
      "Epoch 9/20\n",
      "184/184 [==============================] - 127s 690ms/step - loss: 0.0505 - sparse_categorical_accuracy: 0.9819 - val_loss: 0.0929 - val_sparse_categorical_accuracy: 0.9659\n",
      "Epoch 10/20\n",
      "184/184 [==============================] - 134s 729ms/step - loss: 0.0424 - sparse_categorical_accuracy: 0.9840 - val_loss: 0.0845 - val_sparse_categorical_accuracy: 0.9683\n",
      "Epoch 11/20\n",
      "184/184 [==============================] - 128s 697ms/step - loss: 0.0362 - sparse_categorical_accuracy: 0.9862 - val_loss: 0.0796 - val_sparse_categorical_accuracy: 0.9691\n",
      "Epoch 12/20\n",
      "184/184 [==============================] - 108s 586ms/step - loss: 0.0322 - sparse_categorical_accuracy: 0.9870 - val_loss: 0.0769 - val_sparse_categorical_accuracy: 0.9691\n",
      "Epoch 13/20\n",
      "184/184 [==============================] - 110s 596ms/step - loss: 0.0291 - sparse_categorical_accuracy: 0.9879 - val_loss: 0.0730 - val_sparse_categorical_accuracy: 0.9715\n",
      "Epoch 14/20\n",
      "184/184 [==============================] - 107s 580ms/step - loss: 0.0267 - sparse_categorical_accuracy: 0.9882 - val_loss: 0.0708 - val_sparse_categorical_accuracy: 0.9715\n",
      "Epoch 15/20\n",
      "184/184 [==============================] - 119s 648ms/step - loss: 0.0249 - sparse_categorical_accuracy: 0.9886 - val_loss: 0.0693 - val_sparse_categorical_accuracy: 0.9723\n",
      "Epoch 16/20\n",
      "184/184 [==============================] - 126s 683ms/step - loss: 0.0236 - sparse_categorical_accuracy: 0.9889 - val_loss: 0.0684 - val_sparse_categorical_accuracy: 0.9731\n",
      "Epoch 17/20\n",
      "184/184 [==============================] - 130s 705ms/step - loss: 0.0226 - sparse_categorical_accuracy: 0.9891 - val_loss: 0.0672 - val_sparse_categorical_accuracy: 0.9731\n",
      "Epoch 18/20\n",
      "184/184 [==============================] - 120s 653ms/step - loss: 0.0217 - sparse_categorical_accuracy: 0.9894 - val_loss: 0.0667 - val_sparse_categorical_accuracy: 0.9731\n",
      "Epoch 19/20\n",
      "184/184 [==============================] - 130s 705ms/step - loss: 0.0210 - sparse_categorical_accuracy: 0.9896 - val_loss: 0.0663 - val_sparse_categorical_accuracy: 0.9731\n",
      "Epoch 20/20\n",
      "184/184 [==============================] - 125s 679ms/step - loss: 0.0204 - sparse_categorical_accuracy: 0.9901 - val_loss: 0.0659 - val_sparse_categorical_accuracy: 0.9731\n"
     ]
    },
    {
     "data": {
      "text/plain": [
       "<keras.callbacks.History at 0x1f7bf159e80>"
      ]
     },
     "execution_count": 7,
     "metadata": {},
     "output_type": "execute_result"
    }
   ],
   "source": [
    "model.fit(train_ds, epochs=num_epochs, validation_data=val_ds, callbacks=[early_stopping])"
   ]
  },
  {
   "cell_type": "code",
   "execution_count": 8,
   "id": "49d372e9-9feb-429d-b92c-af8afe7b2895",
   "metadata": {},
   "outputs": [],
   "source": [
    "model.save(\"..\\\\..\\\\Models\\\\SimpleModels\\\\MaxPooling.keras\")"
   ]
  },
  {
   "cell_type": "code",
   "execution_count": 9,
   "id": "8f91276d-0b49-46cd-968e-32352e18f5d8",
   "metadata": {},
   "outputs": [],
   "source": [
    "test_ds_image = test_ds.map(lambda x,y :x)\n",
    "test_ds_label = test_ds.map(lambda x,y: y)"
   ]
  },
  {
   "cell_type": "code",
   "execution_count": 10,
   "id": "740f1e71-9fa8-4218-8ed7-fb3e33768906",
   "metadata": {},
   "outputs": [
    {
     "name": "stdout",
     "output_type": "stream",
     "text": [
      "40/40 [==============================] - 8s 181ms/step\n"
     ]
    }
   ],
   "source": [
    "y_pred = np.argmax(model.predict(test_ds_image, batch_size=32), axis=-1)"
   ]
  },
  {
   "cell_type": "code",
   "execution_count": 11,
   "id": "b4f182ce-7e97-4af8-876d-29a0796bb802",
   "metadata": {},
   "outputs": [
    {
     "data": {
      "text/plain": [
       "array([ 2,  9,  3, ...,  0, 11, 24], dtype=int64)"
      ]
     },
     "execution_count": 11,
     "metadata": {},
     "output_type": "execute_result"
    }
   ],
   "source": [
    "y_pred"
   ]
  },
  {
   "cell_type": "code",
   "execution_count": 12,
   "id": "05233262-28df-4b03-b86b-00ed3e6840d4",
   "metadata": {},
   "outputs": [],
   "source": [
    "y_true = np.array([])\n",
    "for image_batch, labels_batch in test_ds:\n",
    "    #print(labels_batch.numpy())\n",
    "    y_true = np.append(y_true, [labels_batch.numpy()])"
   ]
  },
  {
   "cell_type": "code",
   "execution_count": 13,
   "id": "a0e4b738-f8e0-4dff-8ff8-37dd40f10cab",
   "metadata": {},
   "outputs": [
    {
     "name": "stdout",
     "output_type": "stream",
     "text": [
      "[ 2.  9.  3. ...  0. 11.  5.]\n"
     ]
    }
   ],
   "source": [
    "print(y_true)"
   ]
  },
  {
   "cell_type": "code",
   "execution_count": 18,
   "id": "1d4df937-13d3-4a87-9c77-5b6b8bce3d09",
   "metadata": {},
   "outputs": [
    {
     "name": "stderr",
     "output_type": "stream",
     "text": [
      "C:\\Users\\eikei\\anaconda3\\envs\\MasterThesis\\lib\\site-packages\\sklearn\\metrics\\_classification.py:1469: UndefinedMetricWarning: Precision and F-score are ill-defined and being set to 0.0 in labels with no predicted samples. Use `zero_division` parameter to control this behavior.\n",
      "  _warn_prf(average, modifier, msg_start, len(result))\n",
      "C:\\Users\\eikei\\anaconda3\\envs\\MasterThesis\\lib\\site-packages\\sklearn\\metrics\\_classification.py:1469: UndefinedMetricWarning: Precision and F-score are ill-defined and being set to 0.0 in labels with no predicted samples. Use `zero_division` parameter to control this behavior.\n",
      "  _warn_prf(average, modifier, msg_start, len(result))\n",
      "C:\\Users\\eikei\\anaconda3\\envs\\MasterThesis\\lib\\site-packages\\sklearn\\metrics\\_classification.py:1469: UndefinedMetricWarning: Precision and F-score are ill-defined and being set to 0.0 in labels with no predicted samples. Use `zero_division` parameter to control this behavior.\n",
      "  _warn_prf(average, modifier, msg_start, len(result))\n"
     ]
    }
   ],
   "source": [
    "target_names = [\n",
    "    \"Adialer.C\",\n",
    "    \"Agent.FYI\",\n",
    "    \"Allaple.A\",\n",
    "    \"Allaple.L\",\n",
    "    \"Alueron.genU\",\n",
    "    \"Autorun.K\",\n",
    "    \"C2LOP.gen!g\",\n",
    "    \"C2LOP.P\",\n",
    "    \"Dialplatform.B\",\n",
    "    \"Dontovo.A\",\n",
    "    \"Fakerean\",\n",
    "    \"Instantaccess\",\n",
    "    \"Lolyda.AA1\",\n",
    "    \"Lolyda.AA2\",\n",
    "    \"Lolyda.AA3\",\n",
    "    \"Lolyda.AT\",\n",
    "    \"Malex.gen!J\",\n",
    "    \"Obfuscator.AD\",\n",
    "    \"Rbot!gen\",\n",
    "    \"Skintrim.N\",\n",
    "    \"Swizzor,gen!E\",\n",
    "    \"Swizzor.gen!I\",\n",
    "    \"VB.AT\",\n",
    "    \"Wintrim.BX\",\n",
    "    \"Yuner.A\"\n",
    "]\n",
    "report = metrics.classification_report(y_true, y_pred, target_names=target_names, output_dict=True)"
   ]
  },
  {
   "cell_type": "code",
   "execution_count": 19,
   "id": "aeab686e-e85d-4dce-ade8-0fdcec601dd0",
   "metadata": {},
   "outputs": [
    {
     "name": "stdout",
     "output_type": "stream",
     "text": [
      "{'Adialer.C': {'precision': 1.0, 'recall': 1.0, 'f1-score': 1.0, 'support': 14.0}, 'Agent.FYI': {'precision': 0.9473684210526315, 'recall': 1.0, 'f1-score': 0.972972972972973, 'support': 18.0}, 'Allaple.A': {'precision': 1.0, 'recall': 1.0, 'f1-score': 1.0, 'support': 436.0}, 'Allaple.L': {'precision': 1.0, 'recall': 1.0, 'f1-score': 1.0, 'support': 239.0}, 'Alueron.genU': {'precision': 1.0, 'recall': 1.0, 'f1-score': 1.0, 'support': 30.0}, 'Autorun.K': {'precision': 0.0, 'recall': 0.0, 'f1-score': 0.0, 'support': 14.0}, 'C2LOP.gen!g': {'precision': 0.8823529411764706, 'recall': 0.6818181818181818, 'f1-score': 0.7692307692307693, 'support': 22.0}, 'C2LOP.P': {'precision': 0.8787878787878788, 'recall': 0.9666666666666667, 'f1-score': 0.9206349206349207, 'support': 30.0}, 'Dialplatform.B': {'precision': 1.0, 'recall': 0.9629629629629629, 'f1-score': 0.9811320754716981, 'support': 27.0}, 'Dontovo.A': {'precision': 1.0, 'recall': 1.0, 'f1-score': 1.0, 'support': 25.0}, 'Fakerean': {'precision': 0.967741935483871, 'recall': 1.0, 'f1-score': 0.9836065573770492, 'support': 30.0}, 'Instantaccess': {'precision': 1.0, 'recall': 1.0, 'f1-score': 1.0, 'support': 65.0}, 'Lolyda.AA1': {'precision': 1.0, 'recall': 1.0, 'f1-score': 1.0, 'support': 32.0}, 'Lolyda.AA2': {'precision': 1.0, 'recall': 1.0, 'f1-score': 1.0, 'support': 28.0}, 'Lolyda.AA3': {'precision': 1.0, 'recall': 1.0, 'f1-score': 1.0, 'support': 19.0}, 'Lolyda.AT': {'precision': 1.0, 'recall': 1.0, 'f1-score': 1.0, 'support': 24.0}, 'Malex.gen!J': {'precision': 1.0, 'recall': 0.9523809523809523, 'f1-score': 0.975609756097561, 'support': 21.0}, 'Obfuscator.AD': {'precision': 1.0, 'recall': 1.0, 'f1-score': 1.0, 'support': 22.0}, 'Rbot!gen': {'precision': 1.0, 'recall': 1.0, 'f1-score': 1.0, 'support': 24.0}, 'Skintrim.N': {'precision': 1.0, 'recall': 1.0, 'f1-score': 1.0, 'support': 12.0}, 'Swizzor,gen!E': {'precision': 0.5483870967741935, 'recall': 0.85, 'f1-score': 0.6666666666666665, 'support': 20.0}, 'Swizzor.gen!I': {'precision': 0.7, 'recall': 0.35, 'f1-score': 0.4666666666666667, 'support': 20.0}, 'VB.AT': {'precision': 0.9841269841269841, 'recall': 1.0, 'f1-score': 0.9919999999999999, 'support': 62.0}, 'Wintrim.BX': {'precision': 1.0, 'recall': 1.0, 'f1-score': 1.0, 'support': 15.0}, 'Yuner.A': {'precision': 0.5882352941176471, 'recall': 1.0, 'f1-score': 0.7407407407407407, 'support': 20.0}, 'accuracy': 0.9684791174152876, 'macro avg': {'precision': 0.8998800220607872, 'recall': 0.9105531505531504, 'f1-score': 0.8987704450343617, 'support': 1269.0}, 'weighted avg': {'precision': 0.9634425622905376, 'recall': 0.9684791174152876, 'f1-score': 0.9633787920994606, 'support': 1269.0}}\n"
     ]
    }
   ],
   "source": [
    "print(report)"
   ]
  },
  {
   "cell_type": "code",
   "execution_count": 21,
   "id": "408c8c1d-9301-4b9b-b1f1-3476c4da776a",
   "metadata": {},
   "outputs": [],
   "source": [
    "pd_report = pd.DataFrame(report).transpose()"
   ]
  },
  {
   "cell_type": "code",
   "execution_count": 23,
   "id": "e878838f-ea6d-41c5-b28d-cf3d31a59fd4",
   "metadata": {},
   "outputs": [],
   "source": [
    "pd_report.to_csv(\"..\\\\..\\\\Results\\\\SimpleModel\\\\MaxPooling.csv\")"
   ]
  },
  {
   "cell_type": "code",
   "execution_count": 24,
   "id": "b5105bb2-40e2-473c-9112-52e11fc468ff",
   "metadata": {},
   "outputs": [
    {
     "data": {
      "text/html": [
       "<div>\n",
       "<style scoped>\n",
       "    .dataframe tbody tr th:only-of-type {\n",
       "        vertical-align: middle;\n",
       "    }\n",
       "\n",
       "    .dataframe tbody tr th {\n",
       "        vertical-align: top;\n",
       "    }\n",
       "\n",
       "    .dataframe thead th {\n",
       "        text-align: right;\n",
       "    }\n",
       "</style>\n",
       "<table border=\"1\" class=\"dataframe\">\n",
       "  <thead>\n",
       "    <tr style=\"text-align: right;\">\n",
       "      <th></th>\n",
       "      <th>precision</th>\n",
       "      <th>recall</th>\n",
       "      <th>f1-score</th>\n",
       "      <th>support</th>\n",
       "    </tr>\n",
       "  </thead>\n",
       "  <tbody>\n",
       "    <tr>\n",
       "      <th>Adialer.C</th>\n",
       "      <td>1.000000</td>\n",
       "      <td>1.000000</td>\n",
       "      <td>1.000000</td>\n",
       "      <td>14.000000</td>\n",
       "    </tr>\n",
       "    <tr>\n",
       "      <th>Agent.FYI</th>\n",
       "      <td>0.947368</td>\n",
       "      <td>1.000000</td>\n",
       "      <td>0.972973</td>\n",
       "      <td>18.000000</td>\n",
       "    </tr>\n",
       "    <tr>\n",
       "      <th>Allaple.A</th>\n",
       "      <td>1.000000</td>\n",
       "      <td>1.000000</td>\n",
       "      <td>1.000000</td>\n",
       "      <td>436.000000</td>\n",
       "    </tr>\n",
       "    <tr>\n",
       "      <th>Allaple.L</th>\n",
       "      <td>1.000000</td>\n",
       "      <td>1.000000</td>\n",
       "      <td>1.000000</td>\n",
       "      <td>239.000000</td>\n",
       "    </tr>\n",
       "    <tr>\n",
       "      <th>Alueron.genU</th>\n",
       "      <td>1.000000</td>\n",
       "      <td>1.000000</td>\n",
       "      <td>1.000000</td>\n",
       "      <td>30.000000</td>\n",
       "    </tr>\n",
       "    <tr>\n",
       "      <th>Autorun.K</th>\n",
       "      <td>0.000000</td>\n",
       "      <td>0.000000</td>\n",
       "      <td>0.000000</td>\n",
       "      <td>14.000000</td>\n",
       "    </tr>\n",
       "    <tr>\n",
       "      <th>C2LOP.gen!g</th>\n",
       "      <td>0.882353</td>\n",
       "      <td>0.681818</td>\n",
       "      <td>0.769231</td>\n",
       "      <td>22.000000</td>\n",
       "    </tr>\n",
       "    <tr>\n",
       "      <th>C2LOP.P</th>\n",
       "      <td>0.878788</td>\n",
       "      <td>0.966667</td>\n",
       "      <td>0.920635</td>\n",
       "      <td>30.000000</td>\n",
       "    </tr>\n",
       "    <tr>\n",
       "      <th>Dialplatform.B</th>\n",
       "      <td>1.000000</td>\n",
       "      <td>0.962963</td>\n",
       "      <td>0.981132</td>\n",
       "      <td>27.000000</td>\n",
       "    </tr>\n",
       "    <tr>\n",
       "      <th>Dontovo.A</th>\n",
       "      <td>1.000000</td>\n",
       "      <td>1.000000</td>\n",
       "      <td>1.000000</td>\n",
       "      <td>25.000000</td>\n",
       "    </tr>\n",
       "    <tr>\n",
       "      <th>Fakerean</th>\n",
       "      <td>0.967742</td>\n",
       "      <td>1.000000</td>\n",
       "      <td>0.983607</td>\n",
       "      <td>30.000000</td>\n",
       "    </tr>\n",
       "    <tr>\n",
       "      <th>Instantaccess</th>\n",
       "      <td>1.000000</td>\n",
       "      <td>1.000000</td>\n",
       "      <td>1.000000</td>\n",
       "      <td>65.000000</td>\n",
       "    </tr>\n",
       "    <tr>\n",
       "      <th>Lolyda.AA1</th>\n",
       "      <td>1.000000</td>\n",
       "      <td>1.000000</td>\n",
       "      <td>1.000000</td>\n",
       "      <td>32.000000</td>\n",
       "    </tr>\n",
       "    <tr>\n",
       "      <th>Lolyda.AA2</th>\n",
       "      <td>1.000000</td>\n",
       "      <td>1.000000</td>\n",
       "      <td>1.000000</td>\n",
       "      <td>28.000000</td>\n",
       "    </tr>\n",
       "    <tr>\n",
       "      <th>Lolyda.AA3</th>\n",
       "      <td>1.000000</td>\n",
       "      <td>1.000000</td>\n",
       "      <td>1.000000</td>\n",
       "      <td>19.000000</td>\n",
       "    </tr>\n",
       "    <tr>\n",
       "      <th>Lolyda.AT</th>\n",
       "      <td>1.000000</td>\n",
       "      <td>1.000000</td>\n",
       "      <td>1.000000</td>\n",
       "      <td>24.000000</td>\n",
       "    </tr>\n",
       "    <tr>\n",
       "      <th>Malex.gen!J</th>\n",
       "      <td>1.000000</td>\n",
       "      <td>0.952381</td>\n",
       "      <td>0.975610</td>\n",
       "      <td>21.000000</td>\n",
       "    </tr>\n",
       "    <tr>\n",
       "      <th>Obfuscator.AD</th>\n",
       "      <td>1.000000</td>\n",
       "      <td>1.000000</td>\n",
       "      <td>1.000000</td>\n",
       "      <td>22.000000</td>\n",
       "    </tr>\n",
       "    <tr>\n",
       "      <th>Rbot!gen</th>\n",
       "      <td>1.000000</td>\n",
       "      <td>1.000000</td>\n",
       "      <td>1.000000</td>\n",
       "      <td>24.000000</td>\n",
       "    </tr>\n",
       "    <tr>\n",
       "      <th>Skintrim.N</th>\n",
       "      <td>1.000000</td>\n",
       "      <td>1.000000</td>\n",
       "      <td>1.000000</td>\n",
       "      <td>12.000000</td>\n",
       "    </tr>\n",
       "    <tr>\n",
       "      <th>Swizzor,gen!E</th>\n",
       "      <td>0.548387</td>\n",
       "      <td>0.850000</td>\n",
       "      <td>0.666667</td>\n",
       "      <td>20.000000</td>\n",
       "    </tr>\n",
       "    <tr>\n",
       "      <th>Swizzor.gen!I</th>\n",
       "      <td>0.700000</td>\n",
       "      <td>0.350000</td>\n",
       "      <td>0.466667</td>\n",
       "      <td>20.000000</td>\n",
       "    </tr>\n",
       "    <tr>\n",
       "      <th>VB.AT</th>\n",
       "      <td>0.984127</td>\n",
       "      <td>1.000000</td>\n",
       "      <td>0.992000</td>\n",
       "      <td>62.000000</td>\n",
       "    </tr>\n",
       "    <tr>\n",
       "      <th>Wintrim.BX</th>\n",
       "      <td>1.000000</td>\n",
       "      <td>1.000000</td>\n",
       "      <td>1.000000</td>\n",
       "      <td>15.000000</td>\n",
       "    </tr>\n",
       "    <tr>\n",
       "      <th>Yuner.A</th>\n",
       "      <td>0.588235</td>\n",
       "      <td>1.000000</td>\n",
       "      <td>0.740741</td>\n",
       "      <td>20.000000</td>\n",
       "    </tr>\n",
       "    <tr>\n",
       "      <th>accuracy</th>\n",
       "      <td>0.968479</td>\n",
       "      <td>0.968479</td>\n",
       "      <td>0.968479</td>\n",
       "      <td>0.968479</td>\n",
       "    </tr>\n",
       "    <tr>\n",
       "      <th>macro avg</th>\n",
       "      <td>0.899880</td>\n",
       "      <td>0.910553</td>\n",
       "      <td>0.898770</td>\n",
       "      <td>1269.000000</td>\n",
       "    </tr>\n",
       "    <tr>\n",
       "      <th>weighted avg</th>\n",
       "      <td>0.963443</td>\n",
       "      <td>0.968479</td>\n",
       "      <td>0.963379</td>\n",
       "      <td>1269.000000</td>\n",
       "    </tr>\n",
       "  </tbody>\n",
       "</table>\n",
       "</div>"
      ],
      "text/plain": [
       "                precision    recall  f1-score      support\n",
       "Adialer.C        1.000000  1.000000  1.000000    14.000000\n",
       "Agent.FYI        0.947368  1.000000  0.972973    18.000000\n",
       "Allaple.A        1.000000  1.000000  1.000000   436.000000\n",
       "Allaple.L        1.000000  1.000000  1.000000   239.000000\n",
       "Alueron.genU     1.000000  1.000000  1.000000    30.000000\n",
       "Autorun.K        0.000000  0.000000  0.000000    14.000000\n",
       "C2LOP.gen!g      0.882353  0.681818  0.769231    22.000000\n",
       "C2LOP.P          0.878788  0.966667  0.920635    30.000000\n",
       "Dialplatform.B   1.000000  0.962963  0.981132    27.000000\n",
       "Dontovo.A        1.000000  1.000000  1.000000    25.000000\n",
       "Fakerean         0.967742  1.000000  0.983607    30.000000\n",
       "Instantaccess    1.000000  1.000000  1.000000    65.000000\n",
       "Lolyda.AA1       1.000000  1.000000  1.000000    32.000000\n",
       "Lolyda.AA2       1.000000  1.000000  1.000000    28.000000\n",
       "Lolyda.AA3       1.000000  1.000000  1.000000    19.000000\n",
       "Lolyda.AT        1.000000  1.000000  1.000000    24.000000\n",
       "Malex.gen!J      1.000000  0.952381  0.975610    21.000000\n",
       "Obfuscator.AD    1.000000  1.000000  1.000000    22.000000\n",
       "Rbot!gen         1.000000  1.000000  1.000000    24.000000\n",
       "Skintrim.N       1.000000  1.000000  1.000000    12.000000\n",
       "Swizzor,gen!E    0.548387  0.850000  0.666667    20.000000\n",
       "Swizzor.gen!I    0.700000  0.350000  0.466667    20.000000\n",
       "VB.AT            0.984127  1.000000  0.992000    62.000000\n",
       "Wintrim.BX       1.000000  1.000000  1.000000    15.000000\n",
       "Yuner.A          0.588235  1.000000  0.740741    20.000000\n",
       "accuracy         0.968479  0.968479  0.968479     0.968479\n",
       "macro avg        0.899880  0.910553  0.898770  1269.000000\n",
       "weighted avg     0.963443  0.968479  0.963379  1269.000000"
      ]
     },
     "execution_count": 24,
     "metadata": {},
     "output_type": "execute_result"
    }
   ],
   "source": [
    "pd_report"
   ]
  },
  {
   "cell_type": "code",
   "execution_count": null,
   "id": "ccec197a-b7f3-4e5a-9fe4-d846a3fa949f",
   "metadata": {},
   "outputs": [],
   "source": []
  }
 ],
 "metadata": {
  "kernelspec": {
   "display_name": "Python 3 (ipykernel)",
   "language": "python",
   "name": "python3"
  },
  "language_info": {
   "codemirror_mode": {
    "name": "ipython",
    "version": 3
   },
   "file_extension": ".py",
   "mimetype": "text/x-python",
   "name": "python",
   "nbconvert_exporter": "python",
   "pygments_lexer": "ipython3",
   "version": "3.8.18"
  }
 },
 "nbformat": 4,
 "nbformat_minor": 5
}
